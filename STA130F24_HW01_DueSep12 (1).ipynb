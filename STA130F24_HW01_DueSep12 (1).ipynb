{
 "cells": [
  {
   "cell_type": "markdown",
   "id": "aaad910f",
   "metadata": {},
   "source": [
    "# STA130 Week 01 Homework \n",
    "\n",
    "Please see the course [wiki-textbook](https://github.com/pointOfive/stat130chat130/wiki) for the list of topics covered in this homework assignment, and a list of topics that might appear during ChatBot conversations which are \"out of scope\" for the purposes of this homework assignment (and hence can be safely ignored if encountered)\n"
   ]
  },
  {
   "cell_type": "markdown",
   "id": "5aede3d7",
   "metadata": {},
   "source": [
    "<details class=\"details-example\"><summary style=\"color:blue\"><u>Introduction</u></summary>\n",
    "\n",
    "### Introduction\n",
    "    \n",
    "A reasonable characterization of STA130 Homework is that it simply defines a weekly reading comprehension assignment. \n",
    "Indeed, STA130 Homework essentially boils down to completing various understanding confirmation exercises oriented around coding and writing tasks.\n",
    "However, rather than reading a textbook, STA130 Homework is based on ChatBots so students can interactively follow up to clarify questions or confusion that they may still have regarding learning objective assignments.\n",
    "\n",
    "> Communication is a fundamental skill underlying statistics and data science, so STA130 Homework based on ChatBots helps practice effective two-way communication as part of a \"realistic\" dialogue activity supporting underlying conceptual understanding building. \n",
    "\n",
    "It will likely become increasingly tempting to rely on ChatBots to \"do the work for you\". But when you find yourself frustrated with a ChatBots inability to give you the results you're looking for, this is a \"hint\" that you've become overreliant on the ChatBots. Your objective should not be to have ChatBots \"do the work for you\", but to use ChatBots to help you build your understanding so you can efficiently leverage ChatBots (and other resources) to help you work more efficiently.<br><br>\n",
    "\n",
    "</details>\n",
    "\n",
    "<details class=\"details-example\"><summary style=\"color:blue\"><u>Instructions</u></summary>\n",
    "\n",
    "### Instructions\n",
    "    \n",
    "1. Code and write all your answers (for both the \"Prelecture\" and \"Postlecture\" HW) in a python notebook (in code and markdown cells) \n",
    "    \n",
    "> It is *suggested but not mandatory* that you complete the \"Prelecture\" HW prior to the Monday LEC since (a) all HW is due at the same time; but, (b) completing some of the HW early will mean better readiness for LEC and less of a \"procrastentation cruch\" towards the end of the week...\n",
    "    \n",
    "2. Paste summaries of your ChatBot sessions (including link(s) to chat log histories if you're using ChatGPT) within your notebook\n",
    "    \n",
    "> Create summaries of your ChatBot sessions by using concluding prompts such as \"Please provide a summary of our exchanges here so I can submit them as a record of our interactions as part of a homework assignment\" or, \"Please provide me with the final working verson of the code that we created together\"\n",
    "    \n",
    "3. Save your python jupyter notebook in your own account and \"repo\" on [github.com](github.com) and submit a link to that notebook though Quercus for assignment marking<br><br>\n",
    "\n",
    "</details>\n",
    "\n",
    "<details class=\"details-example\"><summary style=\"color:blue\"><u>Prompt Engineering?</u></summary>\n",
    "\n",
    "### Prompt Engineering?    \n",
    "    \n",
    "The questions (as copy-pasted prompts) are designed to initialize appropriate ChatBot conversations which can be explored in the manner of an interactive and dynamic textbook; but, it is nonetheless **strongly recommendated** that your rephrase the questions in a way that you find natural to ensure a clear understanding of the question. Given sensible prompts the represent a question well, the two primary challenges observed to arise from ChatBots are \n",
    "\n",
    "1. conversations going beyond the intended scope of the material addressed by the question; and, \n",
    "2. unrecoverable confusion as a result of sequential layers logial inquiry that cannot be resolved. \n",
    "\n",
    "In the case of the former (1), adding constraints specifying the limits of considerations of interest tends to be helpful; whereas, the latter (2) is often the result of initial prompting that leads to poor developments in navigating the material, which are likely just best resolve by a \"hard reset\" with a new initial approach to prompting.  Indeed, this is exactly the behavior [hardcoded into copilot](https://answers.microsoft.com/en-us/bing/forum/all/is-this-even-normal/0b6dcab3-7d6c-4373-8efe-d74158af3c00)...\n",
    "\n",
    "</details>"
   ]
  },
  {
   "cell_type": "markdown",
   "id": "77293b06",
   "metadata": {},
   "source": [
    "\n",
    "### Marking Rubric (which may award partial credit) \n",
    "\n",
    "- [0.1 points]: All relevant ChatBot summaries [including link(s) to chat log histories if you're using ChatGPT] are reported within the notebook\n",
    "- [0.2 points]: Reasonable well-written general definitions for Question \"2.2\"\n",
    "- [0.3 points]: Demonstrated understanding regarding Question \"4\"\n",
    "<!-- - [0.2 points]: A sensible justification for the choice in Question \"7.4\" -->\n",
    "- [0.4 points]: Requested assessment of ChatBot versus google performance in Question \"8.3\"\n"
   ]
  },
  {
   "cell_type": "markdown",
   "id": "16c531a1",
   "metadata": {},
   "source": [
    "## \"Pre-lecture\" HW [*completion prior to next LEC is suggested but not mandatory*]"
   ]
  },
  {
   "cell_type": "markdown",
   "id": "1bd98d51",
   "metadata": {},
   "source": [
    "#### 1. Pick one of the datasets from the ChatBot session(s) of the **TUT demo** (or from your own ChatBot session if you wish) and use the code produced through the ChatBot interactions to import the data and confirm that the dataset has missing values<br>\n",
    "\n",
    "<details class=\"details-example\"><summary style=\"color:blue\"><u>Further Guidance</u></summary>\n",
    "\n",
    "> If your TA has not shared a relevant ChatBot session from their **TUT demo** through a piazza post and a Quercus announcement, the **TUT notebook** has links to example ChatBot sessions that you can use; or, ...\n",
    "> \n",
    "> ```python\n",
    "> # feel free to just use the following if you prefer...\n",
    "> import pandas as pd\n",
    "> url = \"https://raw.githubusercontent.com/rfordatascience/tidytuesday/master/data/2020/2020-05-05/villagers.csv\"\n",
    "> df = pd.read_csv(url)\n",
    "> df.isna().sum()\n",
    "> ```\n",
    "    \n",
    "</details>"
   ]
  },
  {
   "cell_type": "code",
   "execution_count": 6,
   "id": "02de4be0",
   "metadata": {},
   "outputs": [
    {
     "data": {
      "text/plain": [
       "row_n           0\n",
       "id              1\n",
       "name            0\n",
       "gender          0\n",
       "species         0\n",
       "birthday        0\n",
       "personality     0\n",
       "song           11\n",
       "phrase          0\n",
       "full_id         0\n",
       "url             0\n",
       "dtype: int64"
      ]
     },
     "execution_count": 6,
     "metadata": {},
     "output_type": "execute_result"
    }
   ],
   "source": [
    "import pandas as pd\n",
    "url = \"https://raw.githubusercontent.com/rfordatascience/tidytuesday/master/data/2020/2020-05-05/villagers.csv\"\n",
    "df = pd.read_csv(url)\n",
    "df.isna().sum()"
   ]
  },
  {
   "cell_type": "markdown",
   "id": "f0432089",
   "metadata": {},
   "source": [
    "I uploaded the dataset and asked chat is there any missing values"
   ]
  },
  {
   "cell_type": "markdown",
   "id": "490989dd",
   "metadata": {},
   "source": [
    "chat give me this:\n",
    "\"Yes, it appears that the dataset has missing values. The dtype: int64 line indicates the data types for each column, and the counts of missing values are listed next to each column header. For instance, the column song has 11 missing values, while other columns like id, name, and gender have 0 missing values.\n",
    "\n",
    "If you want to handle or analyze these missing values further, you might need to perform some data cleaning or imputation.?"
   ]
  },
  {
   "cell_type": "markdown",
   "id": "83d1cdb0",
   "metadata": {},
   "source": [
    "I said\"show me shows of missing values\""
   ]
  },
  {
   "cell_type": "markdown",
   "id": "68fd4000",
   "metadata": {},
   "source": [
    "chat give me this:\n",
    "To show the rows with missing values, you'll need to use a tool or programming language like Python with pandas. \n",
    "Here's an example of how you could do this using pandas in Python:\n",
    "\n",
    "python\n",
    "import pandas as pd\n",
    "\n",
    "#Assuming 'df' is your DataFrame\n",
    "missing_values = df[df.isnull().any(axis=1)]\n",
    "\n",
    "print(missing_values)\n",
    "\n",
    "This code snippet will filter and display all rows that have at least one missing value. \n",
    "If you need further help with the code or have any other questions, just let me know!"
   ]
  },
  {
   "cell_type": "code",
   "execution_count": 5,
   "id": "50ede7e3",
   "metadata": {},
   "outputs": [
    {
     "name": "stdout",
     "output_type": "stream",
     "text": [
      "     row_n       id     name  gender   species birthday personality  \\\n",
      "19      23    audie    Audie  female      wolf     8-31       peppy   \n",
      "103    124      cyd      Cyd    male  elephant      6-9      cranky   \n",
      "116    137      dom      Dom    male     sheep     3-18        jock   \n",
      "186    231     judy     Judy  female       cub     3-10      snooty   \n",
      "213    262    louie    Louie    male   gorilla     3-26        jock   \n",
      "230    286    megan    Megan  female      bear     3-13      normal   \n",
      "247    305      NaN      Nan  female      goat     8-24      normal   \n",
      "262    325    paolo    Paolo    male  elephant      5-5        lazy   \n",
      "298    370  raymond  Raymond    male       cat     10-1        smug   \n",
      "300    372  reneigh  Reneigh  female     horse      6-4        uchi   \n",
      "329    406    sherb    Sherb    male      goat     1-18        lazy   \n",
      "337    416    spike    Spike    male     rhino     6-17      cranky   \n",
      "\n",
      "           song      phrase           full_id  \\\n",
      "19          NaN     foxtrot    villager-audie   \n",
      "103         NaN     rockin'      villager-cyd   \n",
      "116         NaN  indeedaroo      villager-dom   \n",
      "186         NaN      myohmy     villager-judy   \n",
      "213         NaN       toots    villager-louie   \n",
      "230         NaN      sundae    villager-megan   \n",
      "247  K.K. Etude         kid      villager-nan   \n",
      "262         NaN         pal    villager-paolo   \n",
      "298         NaN       crisp  villager-raymond   \n",
      "300         NaN    ayup yup  villager-reneigh   \n",
      "329         NaN      bawwww    villager-sherb   \n",
      "337         NaN        punk    villager-spike   \n",
      "\n",
      "                                                   url  \n",
      "19   https://villagerdb.com/images/villagers/thumb/...  \n",
      "103  https://villagerdb.com/images/villagers/thumb/...  \n",
      "116  https://villagerdb.com/images/villagers/thumb/...  \n",
      "186  https://villagerdb.com/images/villagers/thumb/...  \n",
      "213  https://villagerdb.com/images/villagers/thumb/...  \n",
      "230  https://villagerdb.com/images/villagers/thumb/...  \n",
      "247  https://villagerdb.com/images/villagers/thumb/...  \n",
      "262  https://villagerdb.com/images/villagers/thumb/...  \n",
      "298  https://villagerdb.com/images/villagers/thumb/...  \n",
      "300  https://villagerdb.com/images/villagers/thumb/...  \n",
      "329  https://villagerdb.com/images/villagers/thumb/...  \n",
      "337  https://villagerdb.com/images/villagers/thumb/...  \n"
     ]
    }
   ],
   "source": [
    "import pandas as pd\n",
    "\n",
    "# Assuming 'df' is your DataFrame\n",
    "missing_values = df[df.isnull().any(axis=1)]\n",
    "\n",
    "print(missing_values)\n"
   ]
  },
  {
   "cell_type": "markdown",
   "id": "2947cb92",
   "metadata": {},
   "source": [
    "https://chatgpt.com/share/66e39aa2-7478-8008-ba08-ec2de030859a #for question1"
   ]
  },
  {
   "cell_type": "markdown",
   "id": "0946c6c5",
   "metadata": {},
   "source": [
    "#### 2. Start a new ChatBot session with an initial prompt introducing the dataset you're using and request help to determine how many columns and rows of data a `pandas` DataFrame has, and then\n",
    "\n",
    "1. use code provided in your ChatBot session to print out the number of rows and columns of the dataset; and,  \n",
    "2. write your own general definitions of the meaning of \"observations\" and \"variables\" based on asking the ChatBot to explain these terms in the context of your dataset<br>\n",
    "\n",
    "<details class=\"details-example\"><summary style=\"color:blue\"><u>Further Guidance</u></summary>\n",
    "\n",
    "> A good initial prompt to start would be be something like\n",
    "> - \"I've downloaded a dataset about characters from animal crossings (from https://raw.githubusercontent.com/rfordatascience/tidytuesday/master/data/2020/2020-05-05/villagers.csv), and I'd like to know what columns of information I have and how much data I have\"\n",
    "> \n",
    "> You can further reduce the scope of your inquiry with if needed with something like\n",
    "> - \"I've already downloaded the data and want to understand the size (or dimensions) of the dataset to start with\"\n",
    "> \n",
    "> *Some ChatBots can upload your data and do this for you; but, extended usage of this feature [likely requires a paid subscription](https://github.com/pointOfive/stat130chat130/blob/main/CHATLOG/wk1/GPT/SLS/00006_gpt3p5_LoadDataPaywall.md); and, anyway, you need to run the code yourself rather than having a ChatBot do that for you; and, for STA130 we don't want a ChatBot to just do the analysis for us; rather, we instead want ChatBots to help us understand the steps we need to take to analyze the data; so,* **you DO NOT need to purchase an upgraded version of any ChatBots**\n",
    "> - Free-tier level ChatBots like [GPT4o-mini](https://chat.openai.com/) or [Copilot](https://copilot.microsoft.com/) (which is partially based on [ChatGPT4.0](https://chat.openai.com/), and which you have access to through your UofT account) are sufficiently sophisticated and perfectly appropriate for the STA130 course\n",
    "    \n",
    "</details>"
   ]
  },
  {
   "cell_type": "markdown",
   "id": "7018a768",
   "metadata": {},
   "source": [
    "chat give me this code to run"
   ]
  },
  {
   "cell_type": "code",
   "execution_count": 7,
   "id": "85537784",
   "metadata": {},
   "outputs": [
    {
     "name": "stdout",
     "output_type": "stream",
     "text": [
      "Number of rows: 391\n",
      "Number of columns: 11\n"
     ]
    }
   ],
   "source": [
    "import pandas as pd\n",
    "\n",
    "# Load the dataset\n",
    "url = \"https://raw.githubusercontent.com/rfordatascience/tidytuesday/master/data/2020/2020-05-05/villagers.csv\"\n",
    "data = pd.read_csv(url)\n",
    "\n",
    "# Get the number of rows and columns\n",
    "num_rows, num_columns = data.shape\n",
    "\n",
    "print(f\"Number of rows: {num_rows}\")\n",
    "print(f\"Number of columns: {num_columns}\")\n"
   ]
  },
  {
   "cell_type": "markdown",
   "id": "588286b2",
   "metadata": {},
   "source": [
    "From what chat had told me:\n",
    "Observation refers to a single data point in the dataset. It represents rows in the dataset.\n",
    "Variables refer to different attibutes or features being measured. They represents columns in the dataset "
   ]
  },
  {
   "cell_type": "markdown",
   "id": "8d75cd96",
   "metadata": {},
   "source": [
    "#### 3. Ask the ChatBot how you can provide simple summaries of the columns in the dataset and use the suggested code to provide these summaries for your dataset<br>\n",
    "\n",
    "<details class=\"details-example\"><summary style=\"color:blue\"><u>Further Guidance</u></summary>\n",
    "\n",
    "> Use your ChatBot session to help you create working examples of using  `df.describe()` and `df['column'].value_counts()` for your dataset (although note that the `.value_counts()` method is not really meant to be used for numeric variables, so if you dataset has only numeric variables, `.value_counts()` might not be particularly informative...)\n",
    ">\n",
    "> #### ChatBot Response Scope \n",
    ">     \n",
    "> If prompts are not sufficiently focused you will likely get overly broad responses from the ChatBot, but you can always respond with subsequent refinement requests to appropriately limit the scope of the ChatBot responses to focus on addressing your actual content targets; so, \n",
    "> - an initially very general inquiry like, \"I need help analyzing my data\" will likely result in a ChatBot response suggesting a wide variety of approaches and techniques for summarizing your dataset; but, re-prompting the ChatBot with something like, \"What's the simplest form of summarization of this dataset that I could do and how do I do it in Python?\" or suggesting guidance using the specific summarization methods requested above will helpfully re-orient the ChatBot to your specific interests and needs\n",
    "> \n",
    "> #### Jupyter Notebook Hints\n",
    "> \n",
    "> Jupyter notebook printouts usaully don't show all of the data (when there's too much to show, like if `df.describe()` includes results for many columns), but the printouts just show enough of the data to give an idea of what the results are which is all we're looking for at the moment\n",
    "> \n",
    "> - Consider dividing the code that ChatBot provides you into different jupyter notebook cells so that each cell concludes with a key printed result; the last line of code in a jupyter notebook cell will automatically print out in a formatted manner, so replacing something like `print(df.head())` with `df.head()` as the last line of a cell provides a sensible way to organize your code\n",
    "> - The printout suggestions above are demonstrated in `STA130F24_CourseProject.ipynb` if looking at an example would be helpful to understand what they're getting at...\n",
    "    \n",
    "</details>"
   ]
  },
  {
   "cell_type": "code",
   "execution_count": 8,
   "id": "fd2ab8a8",
   "metadata": {},
   "outputs": [
    {
     "name": "stdout",
     "output_type": "stream",
     "text": [
      "Summary Statistics for Numerical Columns:\n",
      "            row_n\n",
      "count  391.000000\n",
      "mean   239.902813\n",
      "std    140.702672\n",
      "min      2.000000\n",
      "25%    117.500000\n",
      "50%    240.000000\n",
      "75%    363.500000\n",
      "max    483.000000\n"
     ]
    }
   ],
   "source": [
    "import pandas as pd\n",
    "\n",
    "# Load the dataset\n",
    "url = \"https://raw.githubusercontent.com/rfordatascience/tidytuesday/master/data/2020/2020-05-05/villagers.csv\"\n",
    "data = pd.read_csv(url)\n",
    "\n",
    "# Get summary statistics for numerical columns\n",
    "print(\"Summary Statistics for Numerical Columns:\")\n",
    "print(data.describe())\n"
   ]
  },
  {
   "cell_type": "markdown",
   "id": "19b50547",
   "metadata": {},
   "source": [
    "#### 4. If the dataset you're using has (a) non-numeric variables and (b) missing values in numeric variables, explain (perhaps using help from a ChatBot if needed) the discrepancies between size of the dataset given by `df.shape` and what is reported by `df.describe()` with respect to (a) the number of columns it analyzes and (b) the values it reports in the \"count\" column<br>\n",
    "\n",
    "<details class=\"details-example\"><summary style=\"color:blue\"><u>Further Guidance</u></summary>\n",
    "\n",
    "> If the dataset you're using does not have (a) non-numeric variables and (b) missing values in numeric variables (e.g., the `\"villagers.csv\"` example above has only a single numeric variable `row_n` which has no missing values), instead download and use the [https://raw.githubusercontent.com/mwaskom/seaborn-data/master/titanic.csv](https://raw.githubusercontent.com/mwaskom/seaborn-data/master/titanic.csv)\" data to answer this question  \n",
    ">\n",
    "> In (a) above, the \"columns it analyzes\" refers to the columns of the output of `df.describe()` which will only include \"numeric\" columns by default, but you can can see the names of all the columns in a dataset using `df.columns`; and, make sure `df.shape` is refering to the dataset you think it is... if you've loaded a different dataset it might not have been called `df`(!)\n",
    ">\n",
    "> **If you get any errors (for example related to column names), copy and paste them as a response to the ChatBot, and see if it can help you resove them by adding the suggested adjustments to your code and then reruning all your code to see if the changes have fixed the problem (and repeat this process as needed until the problems have been resolved).**\n",
    "    \n",
    "</details>"
   ]
  },
  {
   "cell_type": "code",
   "execution_count": 9,
   "id": "cb68bf2f",
   "metadata": {},
   "outputs": [
    {
     "name": "stdout",
     "output_type": "stream",
     "text": [
      "DataFrame Shape: (391, 11)\n"
     ]
    }
   ],
   "source": [
    "import pandas as pd\n",
    "\n",
    "# Load the dataset\n",
    "url = \"https://raw.githubusercontent.com/rfordatascience/tidytuesday/master/data/2020/2020-05-05/villagers.csv\"\n",
    "data = pd.read_csv(url)\n",
    "\n",
    "# Get the shape of the DataFrame\n",
    "print(\"DataFrame Shape:\", data.shape)\n"
   ]
  },
  {
   "cell_type": "code",
   "execution_count": 10,
   "id": "4364614c",
   "metadata": {},
   "outputs": [
    {
     "name": "stdout",
     "output_type": "stream",
     "text": [
      "Statistical Summary:\n",
      "            row_n\n",
      "count  391.000000\n",
      "mean   239.902813\n",
      "std    140.702672\n",
      "min      2.000000\n",
      "25%    117.500000\n",
      "50%    240.000000\n",
      "75%    363.500000\n",
      "max    483.000000\n"
     ]
    }
   ],
   "source": [
    "import pandas as pd\n",
    "\n",
    "# Load the dataset\n",
    "url = \"https://raw.githubusercontent.com/rfordatascience/tidytuesday/master/data/2020/2020-05-05/villagers.csv\"\n",
    "data = pd.read_csv(url)\n",
    "\n",
    "# Get statistical summary for numerical columns\n",
    "print(\"Statistical Summary:\")\n",
    "print(data.describe())\n"
   ]
  },
  {
   "cell_type": "markdown",
   "id": "fe5435d9",
   "metadata": {},
   "source": [
    "df.shape gives you a quick view of the dataset\n",
    "df.describe() gives you a much detailed statistical infomation like mean, max, min, standard deviation and percentile"
   ]
  },
  {
   "cell_type": "markdown",
   "id": "fa8cc949",
   "metadata": {},
   "source": [
    "#### 5. Use your ChatBot session to help understand the difference between the following and then provide your own paraphrasing summarization of that difference\n",
    "\n",
    "- an \"attribute\", such as `df.shape` which does not end with `()`\n",
    "- and a \"method\", such as `df.describe()` which does end with `()` \n",
    "   \n",
    "\n",
    "<details class=\"details-example\"><summary style=\"color:blue\"><u>Further Guidance</u></summary>\n",
    "\n",
    "> The fact that a \"method\" such as `df.describe()` ends with `()` suggests that \"methods\" are essentially something that we would call a \"function\" in programming language terminology; but, without getting too technical or \"in the weeds\", it might also be worth considering that we could also contrast what the difference is between a \"function\" in a programming language versus a \"function\" in mathematics...  \n",
    "    \n",
    "</details><br><br>\n",
    "\n",
    "***Don't forget to ask for summaries of your ChatBot session(s) and paste these into your homework notebook (including link(s) to chat log histories if you're using ChatGPT)!***<br><br>"
   ]
  },
  {
   "cell_type": "markdown",
   "id": "063c5617",
   "metadata": {},
   "source": [
    "In my own words, attributes is like the propertites of an object. No extra functions or calls needed. It is a straight forward way to access the infomation. In the other hand, method is a function that python runs with some operations and it returns a result "
   ]
  },
  {
   "cell_type": "markdown",
   "id": "a128b3ac",
   "metadata": {},
   "source": [
    "Summary of the chat:\n",
    "Certainly! Here’s a summary of our discussion:\n",
    "\n",
    "1. **Dataset Overview**:\n",
    "   - We discussed how to determine the number of rows and columns in a dataset using Python. You can use `df.shape` to get this information.\n",
    "\n",
    "2. **Dataset Columns**:\n",
    "   - We explored how to get a summary of the columns in a dataset:\n",
    "     - **`df.dtypes`** shows the data types of each column.\n",
    "     - **`df.describe()`** provides statistical summaries for numerical columns.\n",
    "     - **`df['column'].value_counts()`** gives the frequency of unique values in a specific column.\n",
    "\n",
    "3. **Difference between `df.shape` and `df.describe()`**:\n",
    "   - **`df.shape`**: An attribute that provides the dimensions (number of rows and columns) of the DataFrame.\n",
    "   - **`df.describe()`**: A method that provides statistical summaries (e.g., mean, standard deviation) for numerical columns in the DataFrame.\n",
    "\n",
    "4. **Attributes vs. Methods**:\n",
    "   - **Attributes**: Variables associated with an object, accessed without parentheses (e.g., `df.shape`).\n",
    "   - **Methods**: Functions associated with an object, called with parentheses (e.g., `df.describe()`).\n",
    "\n",
    "This summary covers the main points of our discussion about dataset analysis and Python syntax for handling DataFrames. If you have any more questions or need further clarification, feel free to ask!\n"
   ]
  },
  {
   "cell_type": "markdown",
   "id": "fb2db94f",
   "metadata": {},
   "source": [
    "https://chatgpt.com/share/66e3abd3-db3c-8008-a1e8-8c47141c80be # for question 2-5"
   ]
  },
  {
   "cell_type": "markdown",
   "id": "5ea57fbf",
   "metadata": {},
   "source": [
    "<details class=\"details-example\"><summary style=\"color:blue\"><u>Continue now...?</u></summary>\n",
    "\n",
    "### Prelecture VS Postlecture HW\n",
    "    \n",
    "Feel free to work on the \"Postlecture\" HW below if you're making good progress and want to continue: in this case this is particularly reasonable as questions \"6\" and \"7\" below directly follow up and extend the \"Prelecture\" HW questions\n",
    "\n",
    "*The benefits of continue would are that (a) it might be fun to try to tackle the challenge of working through some problems without additional preparation or guidance; and (b) this is a very valable skill to be comfortable with; and (c) it will let you build experience interacting with ChatBots (and beginning to understand their strengths and limitations in this regard)... it's good to have sense of when using a ChatBot is the best way to figure something out, or if another approach (such as course provided resources or a plain old websearch for the right resourse) would be more effective*\n",
    "    \n",
    "</details>    \n"
   ]
  },
  {
   "cell_type": "markdown",
   "id": "ac9eb766",
   "metadata": {},
   "source": [
    "## \"Post-lecture\" HW [*submission along with \"Pre-lecture\" HW is due prior to next TUT*]"
   ]
  },
  {
   "cell_type": "markdown",
   "id": "c6521eff",
   "metadata": {},
   "source": [
    "#### 6. The `df.describe()` method provides the 'count', 'mean', 'std', 'min', '25%', '50%', '75%', and 'max' summary statistics for each variable it analyzes. Give the definitions (perhaps using help from the ChatBot if needed) of each of these summary statistics<br>\n",
    "\n",
    "<details class=\"details-example\"><summary style=\"color:blue\"><u>Further Guidance</u></summary>\n",
    "\n",
    "> The answers here actually make it obvious why these can only be calculated for numeric variables in a dataset, which should help explain the answer to \"4(a)\" and \"4(b)\" above\n",
    ">   \n",
    "> Also notice that when `df.describe()` is used missing values are not explicitly removed, but `df.describe()`  provides answers anyway. Is it clear what `df.describe()` does with the data in each columns it analyzes if there is missing data in the column in question? \n",
    ">\n",
    "> The next questions addresses removing rows or columns from a dataset in order to explicitly remove the presense of any missingness in the dataset (assuming we're not going to fill in any missing data values using any missing data imputation methods, which are beyond the scope of STA130); so, the behavior of `df.describe()` hints that explicitly removing missing may not always be necessary; but, the concern, though, is that not all methods may be able to handle missing data the way `df.describe()` does...\n",
    "    \n",
    "</details>"
   ]
  },
  {
   "cell_type": "markdown",
   "id": "2e3a69db",
   "metadata": {},
   "source": [
    "chat give me this:\n",
    "Count: The number of non-null observations in the dataset for each column. It helps you understand how many valid entries you have for each variable.\n",
    "\n",
    "Mean: The average value of the data. It's calculated by summing all the values in the column and dividing by the count of non-null observations. It gives a central value around which other data points are distributed.\n",
    "\n",
    "Std (Standard Deviation): A measure of the amount of variation or dispersion in the data. It quantifies how much the values in the column deviate from the mean. A high standard deviation indicates that the values are spread out over a wide range.\n",
    "\n",
    "Min: The smallest value in the dataset for each column. It represents the lowest point in the data.\n",
    "\n",
    "25% (First Quartile): The value below which 25% of the observations fall. It represents the 25th percentile and is a measure of the lower end of the data distribution.\n",
    "\n",
    "50% (Median or Second Quartile): The middle value of the data. It divides the dataset into two equal halves, with 50% of the data points below this value and 50% above it.\n",
    "\n",
    "75% (Third Quartile): The value below which 75% of the observations fall. It represents the 75th percentile and provides insight into the upper end of the data distribution.\n",
    "\n",
    "Max: The largest value in the dataset for each column. It represents the highest point in the data."
   ]
  },
  {
   "cell_type": "markdown",
   "id": "374f356a",
   "metadata": {},
   "source": [
    "summary of chat \n",
    "In this session, we covered:\n",
    "\n",
    "- The definitions of statistical metrics provided by the `df.describe()` method, including count, mean, standard deviation, min, quartiles (25%, 50%, 75%), and max.\n",
    "  \n",
    "If you need further explanations or have additional questions, feel free to ask!"
   ]
  },
  {
   "cell_type": "markdown",
   "id": "82cc3303",
   "metadata": {},
   "source": [
    "https://chatgpt.com/share/66e3ad77-3430-8008-ac5b-4275401f6f73 # for question 6"
   ]
  },
  {
   "cell_type": "markdown",
   "id": "251b5e94",
   "metadata": {},
   "source": [
    "#### 7. Missing data can be considered \"across rows\" or \"down columns\".  Consider how `df.dropna()` or `del df['col']` should be applied to most efficiently use the available non-missing data in your dataset and briefly answer the following questions in your own words\n",
    "\n",
    "1. Provide an example of a \"use case\" in which using `df.dropna()` might be peferred over using `del df['col']`<br><br>\n",
    "    \n",
    "2. Provide an example of \"the opposite use case\" in which using `del df['col']` might be preferred over using `df.dropna()` <br><br>\n",
    "    \n",
    "3. Discuss why applying `del df['col']` before `df.dropna()` when both are used together could be important<br><br>\n",
    "    \n",
    "4. Remove all missing data from one of the datasets you're considering using some combination of `del df['col']` and/or `df.dropna()` and give a justification for your approach, including a \"before and after\" report of the results of your approach for your dataset.<br><br>\n",
    "\n",
    "<details class=\"details-example\"><summary style=\"color:blue\"><u>Further Guidance</u></summary>\n",
    "\n",
    "> Start a new ChatBot session **[but remember to first ask your ChatBot for summaries of your current session and perhaps coding results (so you can supply these in the homework as requested)]**, since your last ChatBot session has likely gotten quite long and has covered a lot of material at this point \n",
    "> - It can sometimes be helpful to reset ChatBot sessions to refocus them on the topics of inquiry without too much backlog history that might unintentionally bias things in certain directions and, of course, you can always re-introduce material from earlier conversations as it's relevant, such as for answering \"D\" based on reintroducing and updating code you made in a previous ChatBot session.  \n",
    "> \n",
    "> #### ChatBot Scope Guidance\n",
    "> \n",
    "> - This question is not interested in the general benefits of imputing missing data, or the general benefits of using `df.dropna()` and/or `del df['col']` to remove missing data, just how to most efficiently remove missing data if a user chooses to do so\n",
    "> \n",
    "> - More sophisticated analyses for \"filling in\" rather than removing missing data (as considered here) are possible (based on making assumptions about missing data and using specific imputation methods or models) but these are \"beyond the scope\" of this homework assignment so this topics can be safely ignored for now\n",
    "> \n",
    "> #### ChatBot Code Troubleshooting\n",
    "> \n",
    "> A key issue to be aware of when asking ChatBots for help with something is that they are not running and checking code for correctess, and they often intertwine written instructions with code instructions; so, BEFORE YOU RUN ANY CODE provided by a ChatBot, you should check the following\n",
    "> \n",
    "> 1. If this code changes an object or data, are you sure you want to run this code?\n",
    "> 2. Can you easily \"undo\" the results of running code (e.g., from a copy `df_saved=df.copy()` or reloading the data) if running the code doesn't do what you want?\n",
    "> 3. Is the state of the data what is expected by the code? Or have the objects been updated and changed so they're no longer what the code expects them to be? \n",
    "> \n",
    "> #### If you get any `Python` errors, copy and paste them into the ChatBot prompt and see if it can help you resove them; but, keep in mind the final point above becasue the ChatBot might not be aware of the state of your objects relative to the code it's producing...\n",
    "\n",
    "</details><br>"
   ]
  },
  {
   "cell_type": "markdown",
   "id": "a231c92f",
   "metadata": {},
   "source": [
    "1. we might use df.dropna() while some missing data are crucial the calculation. The model's accuracy could be affected if there are missing values"
   ]
  },
  {
   "cell_type": "markdown",
   "id": "df5e1d25",
   "metadata": {},
   "source": [
    "Here is a case from chat:\n",
    "\n",
    "Use Case: Predictive Modeling for Housing Prices\n",
    "Scenario: You are working on a predictive modeling project to estimate housing prices based on various features of houses, such as square footage, number of bedrooms, number of bathrooms, location, etc. Your dataset contains several columns with some missing values, and you want to build a model that predicts housing prices.\n",
    "\n",
    "Dataset Overview:\n",
    "\n",
    "Columns: ID, SquareFootage, Bedrooms, Bathrooms, Location, Price\n",
    "Missing Data:\n",
    "SquareFootage has some missing values.\n",
    "Location has some missing values.\n",
    "Bathrooms has some missing values.\n",
    "Why df.dropna() Might Be Preferred:\n",
    "\n",
    "Preservation of Relevant Features:\n",
    "\n",
    "Columns like SquareFootage, Bedrooms, Bathrooms, and Price are crucial for predicting housing prices. Removing entire columns (e.g., using del df['Location']) might result in the loss of valuable features that could improve the model’s accuracy.\n",
    "Handling Sparse Missing Values:\n",
    "\n",
    "If only a small percentage of the rows have missing values in critical columns, df.dropna() will remove just those rows without removing valuable columns. This way, you retain all potentially useful features and only discard rows that lack critical data.\n",
    "Consistency in Rows:\n",
    "\n",
    "By using df.dropna(), you ensure that all remaining rows used for training the model have complete data. This helps in maintaining the integrity of the training dataset, as models generally require complete feature sets for training."
   ]
  },
  {
   "cell_type": "markdown",
   "id": "5632c2a3",
   "metadata": {},
   "source": [
    "2. we might choose a specific columns that may be irrelevent because not we don't want delete all columns with missing values. Removing unnecessary also helps us manage and simplify the dataset"
   ]
  },
  {
   "cell_type": "markdown",
   "id": "a977dd4e",
   "metadata": {},
   "source": [
    "Here is a case from chat:\n",
    "Use Case: Exploratory Data Analysis (EDA) on Customer Feedback\n",
    "Scenario: You are conducting exploratory data analysis (EDA) on customer feedback data for a retail company. The goal is to understand patterns and insights related to customer satisfaction, product features, and overall sentiment.\n",
    "\n",
    "Dataset Overview:\n",
    "\n",
    "Columns: CustomerID, FeedbackText, SatisfactionScore, PurchaseDate, ProductCategory, Comments\n",
    "Missing Data:\n",
    "Comments column has some missing values.\n",
    "FeedbackText column has some missing values.\n",
    "ProductCategory has many missing values.\n",
    "Why del df['col'] Might Be Preferred:\n",
    "\n",
    "Irrelevant Columns:\n",
    "\n",
    "Columns like ProductCategory might have so many missing values that they are no longer useful for the analysis. Removing such columns might simplify the dataset and help focus on the more relevant columns for your analysis.\n",
    "Sparse Data Issues:\n",
    "\n",
    "If a column like ProductCategory is missing values in a large proportion of rows, using df.dropna() would result in dropping a significant portion of the dataset, which might be undesirable. Instead, removing the column (del df['ProductCategory']) ensures that you don’t lose valuable data.\n",
    "Focus on Relevant Data:\n",
    "\n",
    "In EDA, you might want to focus on the available data that provides meaningful insights. Removing columns with excessive missing data allows you to concentrate on the columns that are complete and relevant to your analysis."
   ]
  },
  {
   "cell_type": "markdown",
   "id": "2e3b1771",
   "metadata": {},
   "source": [
    "3. Applying del df['col'] before df.dropna() could let us aviod unnecessary data loss. It helps us preserve the important data"
   ]
  },
  {
   "cell_type": "markdown",
   "id": "a447f789",
   "metadata": {},
   "source": [
    "4. Chat give this:"
   ]
  },
  {
   "cell_type": "code",
   "execution_count": 11,
   "id": "dbedcf43",
   "metadata": {},
   "outputs": [
    {
     "name": "stdout",
     "output_type": "stream",
     "text": [
      "Before Cleaning:\n",
      "Number of rows: 391\n",
      "Number of columns: 11\n",
      "\n",
      "Missing data per column:\n",
      " row_n           0\n",
      "id              1\n",
      "name            0\n",
      "gender          0\n",
      "species         0\n",
      "birthday        0\n",
      "personality     0\n",
      "song           11\n",
      "phrase          0\n",
      "full_id         0\n",
      "url             0\n",
      "dtype: int64\n",
      "\n",
      "After Dropping Columns with Excessive Missing Values:\n",
      "Number of rows: 391\n",
      "Number of columns: 11\n",
      "\n",
      "Missing data per column:\n",
      " row_n           0\n",
      "id              1\n",
      "name            0\n",
      "gender          0\n",
      "species         0\n",
      "birthday        0\n",
      "personality     0\n",
      "song           11\n",
      "phrase          0\n",
      "full_id         0\n",
      "url             0\n",
      "dtype: int64\n",
      "\n",
      "After Dropping Rows with Missing Values:\n",
      "Number of rows: 379\n",
      "Number of columns: 11\n",
      "\n",
      "Missing data per column:\n",
      " row_n          0\n",
      "id             0\n",
      "name           0\n",
      "gender         0\n",
      "species        0\n",
      "birthday       0\n",
      "personality    0\n",
      "song           0\n",
      "phrase         0\n",
      "full_id        0\n",
      "url            0\n",
      "dtype: int64\n"
     ]
    }
   ],
   "source": [
    "import pandas as pd\n",
    "\n",
    "# Load the dataset\n",
    "url = \"https://raw.githubusercontent.com/rfordatascience/tidytuesday/master/data/2020/2020-05-05/villagers.csv\"\n",
    "df = pd.read_csv(url)\n",
    "\n",
    "# Report before cleaning\n",
    "print(\"Before Cleaning:\")\n",
    "print(f\"Number of rows: {df.shape[0]}\")\n",
    "print(f\"Number of columns: {df.shape[1]}\")\n",
    "print(\"\\nMissing data per column:\\n\", df.isnull().sum())\n",
    "\n",
    "# Identify columns with excessive missing values\n",
    "missing_percent = df.isnull().mean() * 100\n",
    "columns_to_drop = missing_percent[missing_percent > 50].index  # Columns with more than 50% missing values\n",
    "\n",
    "# Drop these columns\n",
    "df.drop(columns=columns_to_drop, inplace=True)\n",
    "\n",
    "# Report after dropping columns\n",
    "print(\"\\nAfter Dropping Columns with Excessive Missing Values:\")\n",
    "print(f\"Number of rows: {df.shape[0]}\")\n",
    "print(f\"Number of columns: {df.shape[1]}\")\n",
    "print(\"\\nMissing data per column:\\n\", df.isnull().sum())\n",
    "\n",
    "# Drop rows with any remaining missing values\n",
    "df_clean = df.dropna()\n",
    "\n",
    "# Report after dropping rows with missing values\n",
    "print(\"\\nAfter Dropping Rows with Missing Values:\")\n",
    "print(f\"Number of rows: {df_clean.shape[0]}\")\n",
    "print(f\"Number of columns: {df_clean.shape[1]}\")\n",
    "print(\"\\nMissing data per column:\\n\", df_clean.isnull().sum())\n"
   ]
  },
  {
   "cell_type": "markdown",
   "id": "b2485206",
   "metadata": {},
   "source": [
    "from what chat had done, columns with a lot of missing value is dropped because they provide insufficient infomation. rows with missing values is also removed so we could keep a complete data"
   ]
  },
  {
   "cell_type": "markdown",
   "id": "b736c0bb",
   "metadata": {},
   "source": [
    "Summary of chat:\n",
    "### Summary of Session:\n",
    "\n",
    "1. **Handling Missing Data in Datasets:**\n",
    "   - **`df.dropna()`:** Removes rows with any missing values. Useful when you want to ensure that all remaining rows have complete data but may result in loss of data if missing values are widespread.\n",
    "   - **`del df['col']`:** Removes specific columns from the DataFrame. Useful when a column has excessive missing values, and its removal is deemed necessary to prevent data loss from row deletion.\n",
    "\n",
    "2. **Example Use Cases:**\n",
    "   - **`df.dropna()`:** Preferred when you want to maintain important columns and only remove rows with missing values. Example: Predictive modeling where keeping complete rows is critical.\n",
    "   - **`del df['col']`:** Preferred when a column has excessive missing values and its removal would prevent significant data loss. Example: Exploratory Data Analysis (EDA) where focusing on relevant, complete columns is more beneficial.\n",
    "\n",
    "3. **Combining `del df['col']` and `df.dropna()`:**\n",
    "   - **Order Matters:** Remove columns with excessive missing data first to simplify the dataset. Then apply `df.dropna()` to ensure all remaining rows are complete, which is more efficient and reduces the risk of excessive data loss.\n",
    "\n",
    "4. **Practical Example:**\n",
    "   - **Dataset:** `https://raw.githubusercontent.com/rfordatascience/tidytuesday/master/data/2020/2020-05-05/villagers.csv`\n",
    "   - **Approach:**\n",
    "     - Remove columns with more than 50% missing values.\n",
    "     - Apply `df.dropna()` to remove rows with any remaining missing values.\n",
    "   - **Justification:**\n",
    "     - Simplifies the dataset and retains valuable features.\n",
    "     - Ensures remaining data is complete for accurate analysis or modeling.\n",
    "\n",
    "By following these strategies, you can effectively handle missing data and prepare your dataset for robust analysis or predictive modeling."
   ]
  },
  {
   "cell_type": "markdown",
   "id": "12117069",
   "metadata": {},
   "source": [
    "https://chatgpt.com/share/66e3b49f-4ab8-8008-9488-c3bda7b4c22f # for question 7"
   ]
  },
  {
   "cell_type": "markdown",
   "id": "e5d258e0",
   "metadata": {},
   "source": [
    "\n",
    "\n",
    "\n",
    "\n",
    "    \n",
    "#### 8. Give brief explanations in your own words for any requested answers to the questions below\n",
    "\n",
    "> This problem will guide you through exploring how to use a ChatBot to troubleshoot code using the \"https://raw.githubusercontent.com/mwaskom/seaborn-data/master/titanic.csv\" data set \n",
    "> \n",
    "> To initialially constrain the scope of the reponses from your ChatBot, start a new ChatBot session with the following slight variation on the initial prompting approach from \"2\" above\n",
    "> - \"I am going to do some initial simple summary analyses on the titanic data set I've downloaded (https://raw.githubusercontent.com/mwaskom/seaborn-data/master/titanic.csv) which has some missing values, and I'd like to get your help understanding the code I'm using and the analysis it's performing\"\n",
    "        \n",
    "1. Use your ChatBot session to understand what `df.groupby(\"col1\")[\"col2\"].describe()` does and then demonstrate and explain this using a different example from the \"titanic\" data set other than what the ChatBot automatically provide for you\n",
    "    \n",
    "> If needed, you can help guide the ChatBot by showing it the code you've used to download the data **AND provide it with the names of the columns** using either a summary of the data with `df.describe()` or just `df.columns` as demonstrated [here](../CHATLOG/COP/00017_copilot_groupby.md)\n",
    "    \n",
    "2. Assuming you've not yet removed missing values in the manner of question \"7\" above, `df.describe()` would have different values in the `count` value for different data columns depending on the missingness present in the original data.  Why do these capture something fundamentally different from the values in the `count` that result from doing something like `df.groupby(\"col1\")[\"col2\"].describe()`?\n",
    "\n",
    "> Questions \"4\" and \"6\" above address how missing values are handled by `df.describe()` (which is reflected in the `count` output of this method); but, `count` in conjunction with `group_by` has another primary function that's more important than addressing missing values (although missing data could still play a role here).\n",
    "\n",
    "3. Intentionally introduce the following errors into your code and report your opinion as to whether it's easier to (a) work in a ChatBot session to fix the errors, or (b) use google to search for and fix errors: first share the errors you get in the ChatBot session and see if you can work with ChatBot to troubleshoot and fix the coding errors, and then see if you think a google search for the error provides the necessary toubleshooting help more quickly than ChatGPT<br><br>\n",
    "    \n",
    "    1. Forget to include `import pandas as pd` in your code \n",
    "       <br> \n",
    "       Use Kernel->Restart from the notebook menu to restart the jupyter notebook session unload imported libraries and start over so you can create this error\n",
    "       <br><br>\n",
    "       When python has an error, it sometimes provides a lot of \"stack trace\" output, but that's not usually very important for troubleshooting. For this problem for example, all you need to share with ChatGPT or search on google is `\"NameError: name 'pd' is not defined\"`<br><br>\n",
    "\n",
    "    2. Mistype \"titanic.csv\" as \"titanics.csv\"\n",
    "       <br> \n",
    "       If ChatBot troubleshooting is based on downloading the file, just replace the whole url with \"titanics.csv\" and try to troubleshoot the subsequent `FileNotFoundError: [Errno 2] No such file or directory: 'titanics.csv'` (assuming the file is indeed not present)\n",
    "       <br><br>\n",
    "       Explore introducing typos into a couple other parts of the url and note the slightly different errors this produces<br><br>\n",
    "      \n",
    "    3. Try to use a dataframe before it's been assigned into the variable\n",
    "       <br> \n",
    "       You can simulate this by just misnaming the variable. For example, if you should write `df.groupby(\"col1\")[\"col2\"].describe()` based on how you loaded the data, then instead write `DF.groupby(\"col1\")[\"col2\"].describe()`\n",
    "       <br><br>\n",
    "       Make sure you've fixed your file name so that's not the error any more<br><br>\n",
    "        \n",
    "    4. Forget one of the parentheses somewhere the code\n",
    "       <br>\n",
    "       For example, if the code should be `pd.read_csv(url)` the change it to `pd.read_csv(url`<br><br>\n",
    "        \n",
    "    5. Mistype one of the names of the chained functions with the code \n",
    "       <br>\n",
    "       For example, try something like `df.group_by(\"col1\")[\"col2\"].describe()` and `df.groupby(\"col1\")[\"col2\"].describle()`<br><br>\n",
    "        \n",
    "    6. Use a column name that's not in your data for the `groupby` and column selection \n",
    "       <br>\n",
    "       For example, try capitalizing the columns for example replacing \"sex\" with \"Sex\" in `titanic_df.groupby(\"sex\")[\"age\"].describe()`, and then instead introducing the same error of \"age\"<br><br>\n",
    "        \n",
    "    7. Forget to put the column name as a string in quotes for the `groupby` and column selection, and see if the ChatBot and google are still as helpful as they were for the previous question\n",
    "       <br>\n",
    "       For example, something like `titanic_df.groupby(sex)[\"age\"].describe()`, and then `titanic_df.groupby(\"sex\")[age].describe()`\n",
    "        \n"
   ]
  },
  {
   "cell_type": "markdown",
   "id": "75078011",
   "metadata": {},
   "source": [
    "1. It provide a summary between column 1 to column 12. "
   ]
  },
  {
   "cell_type": "markdown",
   "id": "a0196b02",
   "metadata": {},
   "source": [
    "2. Because the grouping smaller the range in the dataset. otherwise it will conclude the whole data set "
   ]
  },
  {
   "cell_type": "markdown",
   "id": "42daf3b9",
   "metadata": {},
   "source": [
    "chat summary:\n",
    "Here's a summary of our session:\n",
    "\n",
    "1. **`df.groupby(\"col1\")[\"col2\"].describe()`**:\n",
    "   - Groups the DataFrame by the values in `col1`.\n",
    "   - Provides descriptive statistics (count, mean, std, min, 25%, 50%, 75%, max) for `col2` within each group defined by `col1`.\n",
    "\n",
    "2. **`df.describe()`**:\n",
    "   - Provides summary statistics for all numeric columns in the DataFrame.\n",
    "   - The `count` reflects the number of non-null entries in each column, which can be less than the total number of rows if there are missing values.\n",
    "\n",
    "3. **Key Differences**:\n",
    "   - **`df.describe()`**: Shows overall statistics for each column across the entire DataFrame, ignoring any groupings.\n",
    "   - **`df.groupby(\"col1\")[\"col2\"].describe()`**: Provides statistics for `col2` within each group in `col1`, which can show different counts based on the distribution of missing values within each group.\n",
    "\n",
    "Feel free to reach out if you need more details or have other questions!"
   ]
  },
  {
   "cell_type": "markdown",
   "id": "c4965d55",
   "metadata": {},
   "source": [
    "https://chatgpt.com/share/66e3b701-2a24-8008-869c-fef8cee5cf7b "
   ]
  },
  {
   "cell_type": "markdown",
   "id": "940f7b6a",
   "metadata": {},
   "source": [
    "3. a. i think chatbot will do the job by justing giving name not defined and point out where i missed it\n",
    "b. chatbot\n",
    "c. chatbot\n",
    "d. chatbot\n",
    "e. chatbot\n",
    "f. chatbot\n",
    "g. chatbot\n"
   ]
  },
  {
   "cell_type": "markdown",
   "id": "87f74e2b",
   "metadata": {},
   "source": [
    "#### 9. Have you reviewed the course [wiki-textbook](https://github.com/pointOfive/stat130chat130/wiki) and interacted with a ChatBot (or, if that wasn't sufficient, real people in the course piazza discussion board or TA office hours) to help you understand all the material in the tutorial and lecture that you didn't quite follow when you first saw it?<br>\n",
    "    \n",
    "<details class=\"details-example\"><summary style=\"color:blue\"><u>Further Guidance</u></summary>\n",
    "\n",
    "> Just answering \"Yes\" or \"No\" or \"Somewhat\" or \"Mostly\" or whatever here is fine as this question isn't a part of the rubric; but, the midterm and final exams may ask questions that are based on the tutorial and lecture materials; and, your own skills will be limited by your familiarity with these materials (which will determine your ability to actually do actual things effectively with these skills... like the course project...)\n",
    "    \n",
    "</details>\n",
    "    \n",
    "***Don't forget to ask for summaries of your ChatBot session(s) and paste these into your homework notebook (including link(s) to chat log histories if you're using ChatGPT)!***"
   ]
  },
  {
   "cell_type": "markdown",
   "id": "2ae8d38d",
   "metadata": {},
   "source": [
    "I have read a littl bit and I have tried put it in with chatbox."
   ]
  },
  {
   "cell_type": "markdown",
   "id": "8ce11ef1",
   "metadata": {},
   "source": [
    "# Recommended Additional Useful Activities [Optional]\n",
    "\n",
    "The \"Ethical Profesionalism Considerations\" and \"Current Course Project Capability Level\" sections below **are not a part of the required homework assignment**; rather, they are regular weekly guides covering (a) relevant considerations regarding professional and ethical conduct, and (b) the analysis steps for the STA130 course project that are feasible at the current stage of the course<br><br>\n",
    "\n",
    "<details class=\"details-example\"><summary style=\"color:blue\"><u>Ethical Professionalism Considerations</u></summary>\n",
    "\n",
    "## Ethical Professionalism Considerations\n",
    "\n",
    "> If the observed data is \"no events occured\" does this mean the data is \"missing\" and [should be ignored](https://priceonomics.com/the-space-shuttle-challenger-explosion-and-the-o)?\n",
    "> \n",
    "> - NASA: \\<determines temperature doesn't affects \"o-ring\" by subseting data to just \"o-ring\" incidents\\>\n",
    "> - Also NASA: \\<launches the shuttle on a cold day\\>\n",
    "\n",
    "|No apparent \"o-ring\" failure and temperature relationship|Apparent between \"o-ring\" failure and temperature relationship|\n",
    "|:-|:-|\n",
    "if you just look at \"o-ring\" failure event data|if you instead look at ALL the data as you should|\n",
    "|![](https://etzq49yfnmd.exactdn.com/wp-content/uploads/2022/03/image06-14.png)|![](https://etzq49yfnmd.exactdn.com/wp-content/uploads/2022/03/image02-33.png)|\n",
    "|![](https://upload.wikimedia.org/wikipedia/commons/8/8b/Shuttle_Challenger_explosion.gif?20190203170223)|![](https://i.makeagif.com/media/10-04-2014/nT57xW.gif)|\n",
    "\n",
    "<br>\n",
    "    \n",
    "</details>    \n",
    "\n",
    "<details class=\"details-example\"><summary style=\"color:blue\"><u>Current Course Project Capability Level</u></summary>\n",
    "\n",
    "## Current Course Project Capability Level\n",
    "\n",
    "> The data we'll use for the STA130 course project is based on the [Canadian Social Connection Survey](https://casch.org/cscs). Please see the [data use agreement](https://static1.squarespace.com/static/60283c2e174c122f8ebe0f39/t/6239c284d610f76fed5a2e69/1647952517436/Data+Use+Agreement+for+the+Canadian+Social+Connection+Survey.pdf) regarding the appropriate and ethical professional use of this data (available at the bottom of the [CSCS](https://casch.org/cscs) webpage).\n",
    "> \n",
    "> 1. Have a very quick look at the list of available variables using the [link](https://drive.google.com/file/d/1ISVymGn-WR1lcRs4psIym2N3or5onNBi/view) (again at the bottom of the [CSCS](https://casch.org/cscs) webpage); then, \n",
    "> 2. examine the code in the first thirteen code cells of [STA130F24_CourseProject.ipynb](https://github.com/pointOfive/stat130chat130/blob/main/CP/STA130F24_CourseProject.ipynb) to get an initital understanding of how we might subset to different studies included in the [data](https://drive.google.com/file/d/1mbUQlMTrNYA7Ly5eImVRBn16Ehy9Lggo/view) (again accessible at the bottom of the [CSCS](https://casch.org/cscs) webpage); then,     \n",
    "> 3. review the fourteenth and fifteenth cells (with the comments \"Here's a high level summary of the data\" and \"And here are some explanations about the columns in the data\") a little more closely to get a better sense of which columns seem to be the most interesting and whether or not they seem to have a lot of missing data\n",
    "    \n",
    "</details>        "
   ]
  },
  {
   "cell_type": "markdown",
   "id": "98ca7d22",
   "metadata": {},
   "source": [
    "### Afterward\n",
    "\n",
    "Here are few ideas of some other kinds of interactions you might consider exploring with a ChatBot...\n",
    "\n",
    "> While these are likely to be extremely practically valuable, they are not a part of the homework assignment, so do not include anything related to these in your homework submission\n",
    "\n",
    "- With respect to improving ones ability in statistics, coding, communication, and other key data science skills\n",
    "    - what is the ChatBots perception its own capabilities and uses as an AI-driven assistance tool \n",
    "    - and does ChatBots assessment of itself influence or agree with your own evalution of the ChatBot? \n",
    "\n",
    "- ChatBots can introduce and explain the \"World War 2 planes\" problem and the \"Monte Hall\" problem... \n",
    "    - how well does do they seem to do and introducing and explaining other \"unintuitive surprising statistics paradoxes\"?\n",
    "\n",
    "- If you consider the process of writing about why you chose to take this course, and the skills you were hoping to build through this course with respect to your current ideas about what possible careers \n",
    "    - and how do you think the exercise would be different if you framed it as a dialogue with a ChatBot\n",
    "    - and do you think the difference could be positive and productive, or potentially biasing and distracting?\n",
    "    \n",
    "- ChatBots sometimes immediately responds in simple helpful ways, but other times it gives a lot of extraneous information that can be overwheling... are you able to prompt and interact with ChatBots in manner that keeps its reponses helpful and focused on what you're interested in? \n",
    "\n",
    "- ChatBots tends to respond in a fairly empathetic and supportive tone...\n",
    "    - do you find it helpful to discuss concerns you might have about succeeding in the course (or entering university more generally) with a ChatBot?\n",
    "    \n",
    "- For what purposes and in what contexts do you think a ChatBot could provide suggestions or feedback about your experiences that might be useful? \n"
   ]
  }
 ],
 "metadata": {
  "kernelspec": {
   "display_name": "Python 3 (ipykernel)",
   "language": "python",
   "name": "python3"
  },
  "language_info": {
   "codemirror_mode": {
    "name": "ipython",
    "version": 3
   },
   "file_extension": ".py",
   "mimetype": "text/x-python",
   "name": "python",
   "nbconvert_exporter": "python",
   "pygments_lexer": "ipython3",
   "version": "3.11.6"
  }
 },
 "nbformat": 4,
 "nbformat_minor": 5
}
